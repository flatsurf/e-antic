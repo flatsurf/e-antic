{
 "cells": [
  {
   "cell_type": "markdown",
   "id": "a78c113b",
   "metadata": {},
   "source": [
    "# The Python interface of e-antic\n",
    "We choose an embedding of the number field whose generator satisfies a³ - 3a = - 1."
   ]
  },
  {
   "cell_type": "code",
   "execution_count": 1,
   "id": "4ccf05cb",
   "metadata": {},
   "outputs": [],
   "source": [
    "import pyeantic\n",
    "\n",
    "K = pyeantic.eantic.renf_class.make(\"a^3 - 3*a + 1\", \"a\", \"0.34 +/- 0.01\", 64)\n",
    "a = K.gen()"
   ]
  },
  {
   "cell_type": "markdown",
   "id": "870e4ea0",
   "metadata": {},
   "source": [
    "Verify that the generator satisfies the defining equation:"
   ]
  },
  {
   "cell_type": "code",
   "execution_count": 2,
   "id": "2ab78962",
   "metadata": {},
   "outputs": [
    {
     "data": {
      "text/plain": [
       "0"
      ]
     },
     "execution_count": 2,
     "metadata": {},
     "output_type": "execute_result"
    }
   ],
   "source": [
    "a**3 - 3*a + 1"
   ]
  },
  {
   "cell_type": "markdown",
   "id": "a0702f40",
   "metadata": {},
   "source": [
    "See the [pyeantic documentation] for more usage examples."
   ]
  }
 ],
 "metadata": {
  "kernelspec": {
   "display_name": "Python 3 (ipykernel)",
   "language": "python",
   "name": "python3"
  },
  "language_info": {
   "codemirror_mode": {
    "name": "ipython",
    "version": 3
   },
   "file_extension": ".py",
   "mimetype": "text/x-python",
   "name": "python",
   "nbconvert_exporter": "python",
   "pygments_lexer": "ipython3",
   "version": "3.9.6"
  }
 },
 "nbformat": 4,
 "nbformat_minor": 5
}
