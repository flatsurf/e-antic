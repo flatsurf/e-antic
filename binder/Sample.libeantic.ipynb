{
 "cells": [
  {
   "cell_type": "markdown",
   "id": "17cef0a2",
   "metadata": {},
   "source": [
    "# The C++ Interface of e-antic\n",
    "We choose an embedding of the number field whose generator satisfies a³ - 3a = - 1."
   ]
  },
  {
   "cell_type": "code",
   "execution_count": 1,
   "id": "3972df4d",
   "metadata": {},
   "outputs": [],
   "source": [
    "#include <e-antic/renf_class.hpp>\n",
    "#include <e-antic/renf_elem_class.hpp>\n",
    "\n",
    "auto K = eantic::renf_class::make(\"a^3 - 3*a + 1\", \"a\", \"0.34 +/- .01\");\n",
    "auto a = K->gen();"
   ]
  },
  {
   "cell_type": "markdown",
   "id": "6c1d8d5f",
   "metadata": {},
   "source": [
    "Print the generator and check that it satisfies the defining equation:"
   ]
  },
  {
   "cell_type": "code",
   "execution_count": 2,
   "id": "53ec1b67",
   "metadata": {},
   "outputs": [
    {
     "name": "stdout",
     "output_type": "stream",
     "text": [
      "(a ~ 0.34729636)\n"
     ]
    }
   ],
   "source": [
    "#include <iostream>\n",
    "\n",
    "std::cout << a << std::endl;"
   ]
  },
  {
   "cell_type": "code",
   "execution_count": 3,
   "id": "55ebeada",
   "metadata": {},
   "outputs": [
    {
     "data": {
      "text/plain": [
       "true"
      ]
     },
     "execution_count": 3,
     "metadata": {},
     "output_type": "execute_result"
    }
   ],
   "source": [
    "auto b = a.pow(3) - 3*a + 1;\n",
    "\n",
    "b.is_zero()"
   ]
  },
  {
   "cell_type": "markdown",
   "id": "80bc7f54",
   "metadata": {},
   "source": [
    "See [the libeanticxx documentation](https://flatsurf.github.io/e-antic/libeantic/overview_cxx/) for more examples and a description of the full interface."
   ]
  }
 ],
 "metadata": {
  "kernelspec": {
   "display_name": "C++17",
   "language": "C++17",
   "name": "xcpp17"
  },
  "language_info": {
   "codemirror_mode": "text/x-c++src",
   "file_extension": ".cpp",
   "mimetype": "text/x-c++src",
   "name": "c++",
   "version": "17"
  }
 },
 "nbformat": 4,
 "nbformat_minor": 5
}
